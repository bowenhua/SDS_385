{
 "cells": [
  {
   "cell_type": "markdown",
   "metadata": {},
   "source": [
    "# Lasso via ADMM"
   ]
  },
  {
   "cell_type": "code",
   "execution_count": 7,
   "metadata": {
    "collapsed": true
   },
   "outputs": [],
   "source": [
    "import numpy as np\n",
    "import matplotlib.pyplot as plt\n",
    "import pandas as pd\n",
    "import scipy.linalg as spla"
   ]
  },
  {
   "cell_type": "markdown",
   "metadata": {},
   "source": [
    "## Utility Functions"
   ]
  },
  {
   "cell_type": "code",
   "execution_count": 11,
   "metadata": {
    "collapsed": true
   },
   "outputs": [],
   "source": [
    "def soft_thresh(x, threshold):\n",
    "    \"\"\"Soft threshold function\n",
    "\n",
    "    Inputs:\n",
    "    x : variable\n",
    "    threshold: scalar\n",
    "    \"\"\"\n",
    "\n",
    "    return np.sign(x) * np.maximum(np.absolute(x) - threshold, np.zeros(np.shape(x)))\n",
    "\n",
    "def calc_obj(X,y,beta, z, lam):\n",
    "    \"\"\"Normalized MSE + l_1 regularization for ADMM (two decision vectors!)\"\"\" \n",
    "\n",
    "    return (1 / np.shape(X)[0]) * (np.linalg.norm(y - np.dot(X, beta)))**2 + lam * np.sum(np.abs(z))\n",
    "\n",
    "def admm(X, y, beta ,lam = 0.0001, tol = 1e-3, rho = 1):\n",
    "    \"\"\"\n",
    "    Solve lasso with ADMM. Following the formulation of Boyd 2011 review paper.\n",
    "    \n",
    "    Inputs:\n",
    "    X: feature matrix\n",
    "    y: labels\n",
    "    beta: variables\n",
    "    g: Parameter of lasso\n",
    "    tol: tolerance\n",
    "    rho: ADMM parameter\n",
    "    \"\"\"\n",
    "\n",
    "    last_obj = float('inf')\n",
    "    obj_change = float('inf')\n",
    "    costs = []\n",
    "\n",
    "    # cache some matrices\n",
    "    XTX = np.dot(X.T, X)\n",
    "    inv_mtx = XTX + rho * np.identity(np.shape(X)[1])\n",
    "    lu_mtx = spla.lu_factor(inv_mtx)\n",
    "    \n",
    "    XTy = np.dot(X.T, y)\n",
    "\n",
    "    costs = []\n",
    "    z = np.copy(beta)\n",
    "    u = np.zeros(beta.shape) #initialize to zero\n",
    "    \n",
    "\n",
    "    while obj_change > tol:\n",
    "        \n",
    "        # solve for beta (x in original formulation)\n",
    "        right_mtx = XTy + rho * (z - u)\n",
    "        beta = spla.lu_solve(lu_mtx, right_mtx)\n",
    "        \n",
    "        # update z and u\n",
    "        z = soft_thresh(beta + u, lam/rho)\n",
    "        u = u + beta - z\n",
    "\n",
    "        current_obj = calc_obj(X,y,beta, z, lam)\n",
    "        obj_change = abs(current_obj - last_obj)\n",
    "        last_obj = current_obj\n",
    "        costs.append(current_obj)\n",
    "\n",
    "    return beta, costs"
   ]
  },
  {
   "cell_type": "markdown",
   "metadata": {},
   "source": [
    "## Read data and perform optimization"
   ]
  },
  {
   "cell_type": "code",
   "execution_count": 12,
   "metadata": {},
   "outputs": [],
   "source": [
    "X = pd.read_csv('diabetesX.csv')\n",
    "y = pd.read_csv('diabetesY.csv',header=None)\n",
    "\n",
    "# Add a column of 0.01's for the intercept. Chose 0.01 to be in a similar scale with other features\n",
    "X['ones'] = 0.01* np.ones((X.shape[0],1))\n",
    "\n",
    "X = X.values\n",
    "y = y.values\n",
    "\n",
    "beta = np.random.rand(X.shape[1],1) \n",
    "\n",
    "\n",
    "beta, costs = admm(X,y,beta)"
   ]
  },
  {
   "cell_type": "code",
   "execution_count": 14,
   "metadata": {},
   "outputs": [
    {
     "data": {
      "image/png": "[encoded data removed]",
      "text/plain": [
       "<matplotlib.figure.Figure at 0x10a1834a8>"
      ]
     },
     "metadata": {},
     "output_type": "display_data"
    },
    {
     "name": "stdout",
     "output_type": "stream",
     "text": [
      "2433.82004218\n"
     ]
    }
   ],
   "source": [
    "plt.plot(costs, label = 'ADMM')\n",
    "plt.ylabel('Loss (MSE)')\n",
    "#plt.yscale('log')\n",
    "plt.xlabel('Iteration Count')\n",
    "plt.show()\n",
    "\n",
    "print(costs[-1])"
   ]
  },
  {
   "cell_type": "markdown",
   "metadata": {},
   "source": [
    "## Results"
   ]
  },
  {
   "cell_type": "markdown",
   "metadata": {},
   "source": [
    "The above figure shows how the loss function decreases as we perform more iterations. The minimum in-sample MSE we get from proximal gradient descent is 2435. This is very close to the optimal in-sample MSE obtained by the scikit-learn package (described in detail in [this notebook](https://github.com/bowenhua/SDS_385/blob/master/5_sparsity/lasso_CV.ipynb)), as well as the optimal in-sample MSE obtained by proximal gradient method (described in detail in [this notebook](https://github.com/bowenhua/SDS_385/blob/master/6_proximal_gradient/Proximal%20gradient%20method.ipynb)).\n",
    "\n",
    "We also note that the convergence of ADMM seems to be faster than proximal gradient method for this problem."
   ]
  },
  {
   "cell_type": "code",
   "execution_count": null,
   "metadata": {
    "collapsed": true
   },
   "outputs": [],
   "source": []
  }
 ],
 "metadata": {
  "kernelspec": {
   "display_name": "Python 3",
   "language": "python",
   "name": "python3"
  },
  "language_info": {
   "codemirror_mode": {
    "name": "ipython",
    "version": 3
   },
   "file_extension": ".py",
   "mimetype": "text/x-python",
   "name": "python",
   "nbconvert_exporter": "python",
   "pygments_lexer": "ipython3",
   "version": "3.6.3"
  }
 },
 "nbformat": 4,
 "nbformat_minor": 2
}
