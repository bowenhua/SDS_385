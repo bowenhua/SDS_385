{
 "cells": [
  {
   "cell_type": "markdown",
   "metadata": {},
   "source": [
    "# Lasso via ADMM"
   ]
  },
  {
   "cell_type": "code",
   "execution_count": 1,
   "metadata": {},
   "outputs": [],
   "source": [
    "import numpy as np\n",
    "import matplotlib.pyplot as plt\n",
    "import pandas as pd\n",
    "import scipy.linalg as spla"
   ]
  },
  {
   "cell_type": "markdown",
   "metadata": {},
   "source": [
    "## Utility Functions"
   ]
  },
  {
   "cell_type": "code",
   "execution_count": 14,
   "metadata": {},
   "outputs": [],
   "source": [
    "def soft_thresh(x, threshold):\n",
    "    \"\"\"Soft threshold function\n",
    "\n",
    "    Inputs:\n",
    "    x : variable\n",
    "    threshold: scalar\n",
    "    \"\"\"\n",
    "\n",
    "    return np.sign(x) * np.maximum(np.absolute(x) - threshold, np.zeros(np.shape(x)))\n",
    "\n",
    "def calc_obj(X,y,beta, z, lam):\n",
    "    \"\"\"Normalized MSE + l_1 regularization for ADMM (two decision vectors!)\"\"\" \n",
    "\n",
    "    return (1 / np.shape(X)[0]) * (np.linalg.norm(y - np.dot(X, beta)))**2 + lam * np.sum(np.abs(z))"
   ]
  },
  {
   "cell_type": "markdown",
   "metadata": {},
   "source": [
    "## ADMM function\n",
    "\n",
    "The objective function approaches the optimal value in standard ADMM. There is no guarantee for the convergence of the decision variables, however. The convergence criterion is chosen accordingly."
   ]
  },
  {
   "cell_type": "code",
   "execution_count": 33,
   "metadata": {},
   "outputs": [],
   "source": [
    "def admm(X, y, beta, rho = 1, lam = 0.0001, tol = 1e-2):\n",
    "    \"\"\"\n",
    "    Solve lasso with ADMM. Following the formulation of Boyd 2011 review paper.\n",
    "    \n",
    "    Inputs:\n",
    "    X: feature matrix\n",
    "    y: labels\n",
    "    beta: variables\n",
    "    g: Parameter of lasso\n",
    "    tol: tolerance\n",
    "    rho: ADMM parameter\n",
    "    \"\"\"\n",
    "\n",
    "    last_obj = float('inf')\n",
    "    obj_change = float('inf')\n",
    "    costs = []\n",
    "\n",
    "    # cache some matrices\n",
    "    XTX = np.dot(X.T, X)\n",
    "    inv_mtx = XTX + rho * np.identity(np.shape(X)[1])\n",
    "    lu_mtx = spla.lu_factor(inv_mtx)\n",
    "    \n",
    "    XTy = np.dot(X.T, y)\n",
    "\n",
    "    costs = []\n",
    "    z = np.copy(beta)\n",
    "    u = np.zeros(beta.shape) #initialized to zero\n",
    "    \n",
    "    iter_count = 0\n",
    "    \n",
    "    while obj_change > tol:\n",
    "        \n",
    "        iter_count += 1\n",
    "        \n",
    "        # solve for beta (x in original formulation)\n",
    "        right_mtx = XTy + rho * (z - u)\n",
    "        beta = spla.lu_solve(lu_mtx, right_mtx)\n",
    "        \n",
    "        # update z and u\n",
    "        z = soft_thresh(beta + u, lam/rho)\n",
    "        u = u + beta - z\n",
    "\n",
    "        current_obj = calc_obj(X,y,beta, z, lam)\n",
    "        obj_change = abs(current_obj - last_obj)\n",
    "        last_obj = current_obj\n",
    "        costs.append(current_obj)\n",
    "\n",
    "    return beta, costs, iter_count"
   ]
  },
  {
   "cell_type": "markdown",
   "metadata": {},
   "source": [
    "## Read data and perform optimization"
   ]
  },
  {
   "cell_type": "code",
   "execution_count": 24,
   "metadata": {},
   "outputs": [],
   "source": [
    "X = pd.read_csv('diabetesX.csv')\n",
    "y = pd.read_csv('diabetesY.csv',header=None)\n",
    "\n",
    "# Add a column of 0.01's for the intercept. Chose 0.01 to be in a similar scale with other features\n",
    "X['ones'] = 0.01* np.ones((X.shape[0],1))\n",
    "\n",
    "X = X.values\n",
    "y = y.values\n",
    "\n",
    "#Randomly initialize beta\n",
    "beta = np.random.rand(X.shape[1],1) \n",
    "\n",
    "# Optimize\n",
    "rhos = [0.0001, 0.001, 0.005, 0.01, 0.05, 0.1, 1, 10]\n",
    "all_costs = []\n",
    "iter_counts = []\n",
    "\n",
    "for r in rhos:\n",
    "    beta0 = beta.copy()\n",
    "    beta0, costs, iter_count = admm(X,y,beta0, rho = r)\n",
    "    all_costs.append(costs)\n",
    "    iter_counts.append(iter_count)"
   ]
  },
  {
   "cell_type": "markdown",
   "metadata": {},
   "source": [
    "## Plot"
   ]
  },
  {
   "cell_type": "code",
   "execution_count": 30,
   "metadata": {},
   "outputs": [
    {
     "data": {
      "image/png": "[encoded data removed]",
      "text/plain": [
       "<matplotlib.figure.Figure at 0x60c92d198>"
      ]
     },
     "metadata": {},
     "output_type": "display_data"
    }
   ],
   "source": [
    "plt.figure()\n",
    "for idx, r in enumerate(rhos[:-1]):\n",
    "    plt.plot(all_costs[idx], label = r'$\\rho = $' + str(r))\n",
    "    \n",
    "plt.ylabel('Loss (MSE)')\n",
    "#plt.yscale('log')\n",
    "plt.xlabel('Iteration Count')\n",
    "plt.title(r'Loss vs. iteration count for different $\\rho$')\n",
    "plt.legend()\n",
    "plt.show()\n",
    "\n"
   ]
  },
  {
   "cell_type": "code",
   "execution_count": 34,
   "metadata": {},
   "outputs": [
    {
     "data": {
      "image/png": "[encoded data removed]",
      "text/plain": [
       "<matplotlib.figure.Figure at 0x60c9b5208>"
      ]
     },
     "metadata": {},
     "output_type": "display_data"
    }
   ],
   "source": [
    "plt.figure()\n",
    "for idx, r in enumerate(rhos):\n",
    "    plt.plot(r,iter_counts[idx], 'o')\n",
    "    \n",
    "plt.ylabel('Iteration Needed')\n",
    "plt.xlabel(r'$\\rho$')\n",
    "plt.xscale('log')\n",
    "plt.title(r'Number of iterations for different $\\rho$')\n",
    "plt.legend()\n",
    "plt.show()"
   ]
  },
  {
   "cell_type": "markdown",
   "metadata": {},
   "source": [
    "## Results"
   ]
  },
  {
   "cell_type": "markdown",
   "metadata": {},
   "source": [
    "### Minimum MSE\n",
    "\n",
    "The first figure shows how the loss function decreases as we perform more iterations. The minimum in-sample MSE we get from proximal gradient descent is 2435. This is very close to the optimal in-sample MSE obtained by the scikit-learn package (described in detail in [this notebook](https://github.com/bowenhua/SDS_385/blob/master/5_sparsity/lasso_CV.ipynb)), as well as the optimal in-sample MSE obtained by proximal gradient method (described in detail in [this notebook](https://github.com/bowenhua/SDS_385/blob/master/6_proximal_gradient/Proximal%20gradient%20method.ipynb)).\n",
    "\n",
    "We also note that the convergence of ADMM seems to be faster than proximal gradient method for this problem."
   ]
  },
  {
   "cell_type": "markdown",
   "metadata": {
    "collapsed": true
   },
   "source": [
    "### Choosing $\\rho$"
   ]
  },
  {
   "cell_type": "markdown",
   "metadata": {},
   "source": [
    "Under mild assumptions, we can show that the objective function converges to minimum for all $\\rho >0$. if $\\rho = 0$, then we are doing some kind of dual decomposition. \n",
    "\n",
    "How to choose the optimal $\\rho$ is not obvious to me. I tried different values (see the second figure.)\n",
    "\n",
    "[This paper](https://arxiv.org/abs/1306.2454) focuses on optimal parameter selection for ADMM."
   ]
  }
 ],
 "metadata": {
  "kernelspec": {
   "display_name": "Python 3",
   "language": "python",
   "name": "python3"
  },
  "language_info": {
   "codemirror_mode": {
    "name": "ipython",
    "version": 3
   },
   "file_extension": ".py",
   "mimetype": "text/x-python",
   "name": "python",
   "nbconvert_exporter": "python",
   "pygments_lexer": "ipython3",
   "version": "3.6.3"
  }
 },
 "nbformat": 4,
 "nbformat_minor": 2
}
