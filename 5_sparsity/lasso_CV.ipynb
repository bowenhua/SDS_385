{
 "cells": [
  {
   "cell_type": "markdown",
   "metadata": {},
   "source": [
    "# LASSO and cross validation"
   ]
  },
  {
   "cell_type": "code",
   "execution_count": 51,
   "metadata": {
    "collapsed": true
   },
   "outputs": [],
   "source": [
    "import numpy as np\n",
    "import sklearn as sk\n",
    "import matplotlib.pyplot as plt\n",
    "import pandas as pd\n",
    "from sklearn.linear_model import lasso_path"
   ]
  },
  {
   "cell_type": "markdown",
   "metadata": {},
   "source": [
    "## Reading data\n",
    "\n",
    "We can see that the features are already normalized."
   ]
  },
  {
   "cell_type": "code",
   "execution_count": 23,
   "metadata": {},
   "outputs": [
    {
     "data": {
      "text/html": [
       "<div>\n",
       "<style>\n",
       "    .dataframe thead tr:only-child th {\n",
       "        text-align: right;\n",
       "    }\n",
       "\n",
       "    .dataframe thead th {\n",
       "        text-align: left;\n",
       "    }\n",
       "\n",
       "    .dataframe tbody tr th {\n",
       "        vertical-align: top;\n",
       "    }\n",
       "</style>\n",
       "<table border=\"1\" class=\"dataframe\">\n",
       "  <thead>\n",
       "    <tr style=\"text-align: right;\">\n",
       "      <th></th>\n",
       "      <th>age</th>\n",
       "      <th>sex</th>\n",
       "      <th>bmi</th>\n",
       "      <th>map</th>\n",
       "      <th>tc</th>\n",
       "      <th>ldl</th>\n",
       "      <th>hdl</th>\n",
       "      <th>tch</th>\n",
       "      <th>ltg</th>\n",
       "      <th>glu</th>\n",
       "      <th>...</th>\n",
       "      <th>ldl:hdl</th>\n",
       "      <th>ldl:tch</th>\n",
       "      <th>ldl:ltg</th>\n",
       "      <th>ldl:glu</th>\n",
       "      <th>hdl:tch</th>\n",
       "      <th>hdl:ltg</th>\n",
       "      <th>hdl:glu</th>\n",
       "      <th>tch:ltg</th>\n",
       "      <th>tch:glu</th>\n",
       "      <th>ltg:glu</th>\n",
       "    </tr>\n",
       "  </thead>\n",
       "  <tbody>\n",
       "    <tr>\n",
       "      <th>count</th>\n",
       "      <td>4.420000e+02</td>\n",
       "      <td>4.420000e+02</td>\n",
       "      <td>4.420000e+02</td>\n",
       "      <td>4.420000e+02</td>\n",
       "      <td>4.420000e+02</td>\n",
       "      <td>4.420000e+02</td>\n",
       "      <td>4.420000e+02</td>\n",
       "      <td>4.420000e+02</td>\n",
       "      <td>4.420000e+02</td>\n",
       "      <td>4.420000e+02</td>\n",
       "      <td>...</td>\n",
       "      <td>4.420000e+02</td>\n",
       "      <td>4.420000e+02</td>\n",
       "      <td>4.420000e+02</td>\n",
       "      <td>4.420000e+02</td>\n",
       "      <td>4.420000e+02</td>\n",
       "      <td>4.420000e+02</td>\n",
       "      <td>4.420000e+02</td>\n",
       "      <td>4.420000e+02</td>\n",
       "      <td>4.420000e+02</td>\n",
       "      <td>4.420000e+02</td>\n",
       "    </tr>\n",
       "    <tr>\n",
       "      <th>mean</th>\n",
       "      <td>-1.161715e-18</td>\n",
       "      <td>5.651588e-19</td>\n",
       "      <td>-1.472553e-17</td>\n",
       "      <td>-4.081702e-18</td>\n",
       "      <td>7.064485e-18</td>\n",
       "      <td>-3.390953e-18</td>\n",
       "      <td>6.279542e-18</td>\n",
       "      <td>7.566848e-18</td>\n",
       "      <td>2.458833e-18</td>\n",
       "      <td>5.987151e-18</td>\n",
       "      <td>...</td>\n",
       "      <td>-6.279542e-20</td>\n",
       "      <td>1.601283e-18</td>\n",
       "      <td>3.124072e-18</td>\n",
       "      <td>-1.751600e-17</td>\n",
       "      <td>3.045578e-18</td>\n",
       "      <td>-4.528138e-18</td>\n",
       "      <td>-2.668805e-19</td>\n",
       "      <td>-8.712865e-19</td>\n",
       "      <td>-2.613859e-18</td>\n",
       "      <td>2.982782e-19</td>\n",
       "    </tr>\n",
       "    <tr>\n",
       "      <th>std</th>\n",
       "      <td>4.761905e-02</td>\n",
       "      <td>4.761905e-02</td>\n",
       "      <td>4.761905e-02</td>\n",
       "      <td>4.761905e-02</td>\n",
       "      <td>4.761905e-02</td>\n",
       "      <td>4.761905e-02</td>\n",
       "      <td>4.761905e-02</td>\n",
       "      <td>4.761905e-02</td>\n",
       "      <td>4.761905e-02</td>\n",
       "      <td>4.761905e-02</td>\n",
       "      <td>...</td>\n",
       "      <td>4.761905e-02</td>\n",
       "      <td>4.761905e-02</td>\n",
       "      <td>4.761905e-02</td>\n",
       "      <td>4.761905e-02</td>\n",
       "      <td>4.761905e-02</td>\n",
       "      <td>4.761905e-02</td>\n",
       "      <td>4.761905e-02</td>\n",
       "      <td>4.761905e-02</td>\n",
       "      <td>4.761905e-02</td>\n",
       "      <td>4.761905e-02</td>\n",
       "    </tr>\n",
       "    <tr>\n",
       "      <th>min</th>\n",
       "      <td>-1.072256e-01</td>\n",
       "      <td>-4.464164e-02</td>\n",
       "      <td>-9.027530e-02</td>\n",
       "      <td>-1.123996e-01</td>\n",
       "      <td>-1.267807e-01</td>\n",
       "      <td>-1.156131e-01</td>\n",
       "      <td>-1.023071e-01</td>\n",
       "      <td>-7.639450e-02</td>\n",
       "      <td>-1.260974e-01</td>\n",
       "      <td>-1.377672e-01</td>\n",
       "      <td>...</td>\n",
       "      <td>-2.564709e-01</td>\n",
       "      <td>-1.115079e-01</td>\n",
       "      <td>-1.825941e-01</td>\n",
       "      <td>-1.517344e-01</td>\n",
       "      <td>-2.348901e-01</td>\n",
       "      <td>-2.546851e-01</td>\n",
       "      <td>-2.232546e-01</td>\n",
       "      <td>-1.607454e-01</td>\n",
       "      <td>-1.289188e-01</td>\n",
       "      <td>-9.216539e-02</td>\n",
       "    </tr>\n",
       "    <tr>\n",
       "      <th>25%</th>\n",
       "      <td>-3.729927e-02</td>\n",
       "      <td>-4.464164e-02</td>\n",
       "      <td>-3.422907e-02</td>\n",
       "      <td>-3.665645e-02</td>\n",
       "      <td>-3.424784e-02</td>\n",
       "      <td>-3.035840e-02</td>\n",
       "      <td>-3.511716e-02</td>\n",
       "      <td>-3.949338e-02</td>\n",
       "      <td>-3.324879e-02</td>\n",
       "      <td>-3.317903e-02</td>\n",
       "      <td>...</td>\n",
       "      <td>-1.503075e-02</td>\n",
       "      <td>-2.369634e-02</td>\n",
       "      <td>-2.119392e-02</td>\n",
       "      <td>-2.093422e-02</td>\n",
       "      <td>-1.562203e-02</td>\n",
       "      <td>-1.711673e-02</td>\n",
       "      <td>-1.350453e-02</td>\n",
       "      <td>-2.724511e-02</td>\n",
       "      <td>-2.061353e-02</td>\n",
       "      <td>-2.362366e-02</td>\n",
       "    </tr>\n",
       "    <tr>\n",
       "      <th>50%</th>\n",
       "      <td>5.383060e-03</td>\n",
       "      <td>-4.464164e-02</td>\n",
       "      <td>-7.283766e-03</td>\n",
       "      <td>-5.670611e-03</td>\n",
       "      <td>-4.320866e-03</td>\n",
       "      <td>-3.819065e-03</td>\n",
       "      <td>-6.584468e-03</td>\n",
       "      <td>-2.592262e-03</td>\n",
       "      <td>-1.947634e-03</td>\n",
       "      <td>-1.077698e-03</td>\n",
       "      <td>...</td>\n",
       "      <td>6.398204e-03</td>\n",
       "      <td>-1.477062e-02</td>\n",
       "      <td>-8.660583e-03</td>\n",
       "      <td>-9.549844e-03</td>\n",
       "      <td>1.714849e-02</td>\n",
       "      <td>8.962967e-03</td>\n",
       "      <td>8.559629e-03</td>\n",
       "      <td>-1.335187e-02</td>\n",
       "      <td>-1.565272e-02</td>\n",
       "      <td>-1.352819e-02</td>\n",
       "    </tr>\n",
       "    <tr>\n",
       "      <th>75%</th>\n",
       "      <td>3.807591e-02</td>\n",
       "      <td>5.068012e-02</td>\n",
       "      <td>3.124802e-02</td>\n",
       "      <td>3.564384e-02</td>\n",
       "      <td>2.835801e-02</td>\n",
       "      <td>2.984439e-02</td>\n",
       "      <td>2.931150e-02</td>\n",
       "      <td>3.430886e-02</td>\n",
       "      <td>3.243323e-02</td>\n",
       "      <td>2.791705e-02</td>\n",
       "      <td>...</td>\n",
       "      <td>1.997273e-02</td>\n",
       "      <td>1.023091e-02</td>\n",
       "      <td>2.066205e-02</td>\n",
       "      <td>1.211330e-02</td>\n",
       "      <td>3.130439e-02</td>\n",
       "      <td>2.251006e-02</td>\n",
       "      <td>2.208954e-02</td>\n",
       "      <td>1.507546e-02</td>\n",
       "      <td>1.765642e-02</td>\n",
       "      <td>1.307715e-02</td>\n",
       "    </tr>\n",
       "    <tr>\n",
       "      <th>max</th>\n",
       "      <td>1.107267e-01</td>\n",
       "      <td>5.068012e-02</td>\n",
       "      <td>1.705552e-01</td>\n",
       "      <td>1.320442e-01</td>\n",
       "      <td>1.539137e-01</td>\n",
       "      <td>1.987880e-01</td>\n",
       "      <td>1.811791e-01</td>\n",
       "      <td>1.852344e-01</td>\n",
       "      <td>1.335990e-01</td>\n",
       "      <td>1.356118e-01</td>\n",
       "      <td>...</td>\n",
       "      <td>1.607729e-01</td>\n",
       "      <td>5.551291e-01</td>\n",
       "      <td>2.033809e-01</td>\n",
       "      <td>2.990323e-01</td>\n",
       "      <td>8.044499e-02</td>\n",
       "      <td>1.630665e-01</td>\n",
       "      <td>2.099052e-01</td>\n",
       "      <td>3.758453e-01</td>\n",
       "      <td>3.181041e-01</td>\n",
       "      <td>3.381838e-01</td>\n",
       "    </tr>\n",
       "  </tbody>\n",
       "</table>\n",
       "<p>8 rows × 64 columns</p>\n",
       "</div>"
      ],
      "text/plain": [
       "                age           sex           bmi           map            tc  \\\n",
       "count  4.420000e+02  4.420000e+02  4.420000e+02  4.420000e+02  4.420000e+02   \n",
       "mean  -1.161715e-18  5.651588e-19 -1.472553e-17 -4.081702e-18  7.064485e-18   \n",
       "std    4.761905e-02  4.761905e-02  4.761905e-02  4.761905e-02  4.761905e-02   \n",
       "min   -1.072256e-01 -4.464164e-02 -9.027530e-02 -1.123996e-01 -1.267807e-01   \n",
       "25%   -3.729927e-02 -4.464164e-02 -3.422907e-02 -3.665645e-02 -3.424784e-02   \n",
       "50%    5.383060e-03 -4.464164e-02 -7.283766e-03 -5.670611e-03 -4.320866e-03   \n",
       "75%    3.807591e-02  5.068012e-02  3.124802e-02  3.564384e-02  2.835801e-02   \n",
       "max    1.107267e-01  5.068012e-02  1.705552e-01  1.320442e-01  1.539137e-01   \n",
       "\n",
       "                ldl           hdl           tch           ltg           glu  \\\n",
       "count  4.420000e+02  4.420000e+02  4.420000e+02  4.420000e+02  4.420000e+02   \n",
       "mean  -3.390953e-18  6.279542e-18  7.566848e-18  2.458833e-18  5.987151e-18   \n",
       "std    4.761905e-02  4.761905e-02  4.761905e-02  4.761905e-02  4.761905e-02   \n",
       "min   -1.156131e-01 -1.023071e-01 -7.639450e-02 -1.260974e-01 -1.377672e-01   \n",
       "25%   -3.035840e-02 -3.511716e-02 -3.949338e-02 -3.324879e-02 -3.317903e-02   \n",
       "50%   -3.819065e-03 -6.584468e-03 -2.592262e-03 -1.947634e-03 -1.077698e-03   \n",
       "75%    2.984439e-02  2.931150e-02  3.430886e-02  3.243323e-02  2.791705e-02   \n",
       "max    1.987880e-01  1.811791e-01  1.852344e-01  1.335990e-01  1.356118e-01   \n",
       "\n",
       "           ...            ldl:hdl       ldl:tch       ldl:ltg       ldl:glu  \\\n",
       "count      ...       4.420000e+02  4.420000e+02  4.420000e+02  4.420000e+02   \n",
       "mean       ...      -6.279542e-20  1.601283e-18  3.124072e-18 -1.751600e-17   \n",
       "std        ...       4.761905e-02  4.761905e-02  4.761905e-02  4.761905e-02   \n",
       "min        ...      -2.564709e-01 -1.115079e-01 -1.825941e-01 -1.517344e-01   \n",
       "25%        ...      -1.503075e-02 -2.369634e-02 -2.119392e-02 -2.093422e-02   \n",
       "50%        ...       6.398204e-03 -1.477062e-02 -8.660583e-03 -9.549844e-03   \n",
       "75%        ...       1.997273e-02  1.023091e-02  2.066205e-02  1.211330e-02   \n",
       "max        ...       1.607729e-01  5.551291e-01  2.033809e-01  2.990323e-01   \n",
       "\n",
       "            hdl:tch       hdl:ltg       hdl:glu       tch:ltg       tch:glu  \\\n",
       "count  4.420000e+02  4.420000e+02  4.420000e+02  4.420000e+02  4.420000e+02   \n",
       "mean   3.045578e-18 -4.528138e-18 -2.668805e-19 -8.712865e-19 -2.613859e-18   \n",
       "std    4.761905e-02  4.761905e-02  4.761905e-02  4.761905e-02  4.761905e-02   \n",
       "min   -2.348901e-01 -2.546851e-01 -2.232546e-01 -1.607454e-01 -1.289188e-01   \n",
       "25%   -1.562203e-02 -1.711673e-02 -1.350453e-02 -2.724511e-02 -2.061353e-02   \n",
       "50%    1.714849e-02  8.962967e-03  8.559629e-03 -1.335187e-02 -1.565272e-02   \n",
       "75%    3.130439e-02  2.251006e-02  2.208954e-02  1.507546e-02  1.765642e-02   \n",
       "max    8.044499e-02  1.630665e-01  2.099052e-01  3.758453e-01  3.181041e-01   \n",
       "\n",
       "            ltg:glu  \n",
       "count  4.420000e+02  \n",
       "mean   2.982782e-19  \n",
       "std    4.761905e-02  \n",
       "min   -9.216539e-02  \n",
       "25%   -2.362366e-02  \n",
       "50%   -1.352819e-02  \n",
       "75%    1.307715e-02  \n",
       "max    3.381838e-01  \n",
       "\n",
       "[8 rows x 64 columns]"
      ]
     },
     "execution_count": 23,
     "metadata": {},
     "output_type": "execute_result"
    }
   ],
   "source": [
    "X = pd.read_csv('diabetesX.csv')\n",
    "y = pd.read_csv('diabetesY.csv',header=None)\n",
    "X.describe()"
   ]
  },
  {
   "cell_type": "markdown",
   "metadata": {},
   "source": [
    "## Lasso Path and Training MSE\n",
    "\n",
    "We next use `lasso_path()`, a built-in function of scikit-learn to generate the lasso path graph. Note the parameter alpha is the coefficient of the $\\ell_1$ regularization."
   ]
  },
  {
   "cell_type": "code",
   "execution_count": 24,
   "metadata": {},
   "outputs": [],
   "source": [
    "X = X.values\n",
    "y = y.values"
   ]
  },
  {
   "cell_type": "code",
   "execution_count": 53,
   "metadata": {},
   "outputs": [
    {
     "name": "stdout",
     "output_type": "stream",
     "text": [
      "[  2.14804358e+00   1.49330442e+00   1.03813447e+00   7.21703608e-01\n",
      "   5.01723150e-01   3.48794319e-01   2.42479298e-01   1.68569861e-01\n",
      "   1.17188553e-01   8.14686380e-02   5.66364102e-02   3.93732244e-02\n",
      "   2.73719820e-02   1.90288047e-02   1.32286879e-02   9.19648855e-03\n",
      "   6.39333259e-03   4.44459876e-03   3.08985304e-03   2.14804358e-03]\n"
     ]
    }
   ],
   "source": [
    "alphas, coeffs, _ = lasso_path(X,y, n_alphas = 20) #coeffs: (n_output, n_features, n_alphas)\n",
    "print(alphas)\n",
    "colors = 'brgck'\n",
    "nlalpha = -np.log10(alphas)\n",
    "coeffs = coeffs.reshape(coeffs.shape[1],coeffs.shape[2]) #convert coeffs to (n_features, n_alphas)"
   ]
  },
  {
   "cell_type": "code",
   "execution_count": 54,
   "metadata": {},
   "outputs": [
    {
     "data": {
      "image/png": "[encoded data removed]",
      "text/plain": [
       "<matplotlib.figure.Figure at 0x111b7a8d0>"
      ]
     },
     "metadata": {},
     "output_type": "display_data"
    }
   ],
   "source": [
    "for i, coeff in enumerate(coeffs):\n",
    "    plt.plot(nlalpha, coeff, c=colors[i%len(colors)])\n",
    "    \n",
    "    \n",
    "plt.xlabel(r'$-\\log(\\lambda)$')\n",
    "plt.title(\"Lasso Coefficient Paths\")\n",
    "plt.show()"
   ]
  },
  {
   "cell_type": "code",
   "execution_count": 121,
   "metadata": {},
   "outputs": [
    {
     "data": {
      "image/png": "[encoded data removed]",
      "text/plain": [
       "<matplotlib.figure.Figure at 0x1a199e4ba8>"
      ]
     },
     "metadata": {},
     "output_type": "display_data"
    }
   ],
   "source": [
    "las = sk.linear_model.Lasso()\n",
    "train_errors = []\n",
    "for alpha in alphas:\n",
    "    las.set_params(alpha=alpha)\n",
    "    las.fit(X, y)\n",
    "    y_pred = las.predict(X)\n",
    "    train_errors.append(sk.metrics.mean_squared_error(y, y_pred))\n",
    "    \n",
    "plt.xlabel(r'$\\lambda$')\n",
    "plt.ylabel('In-Sample MSE')\n",
    "plt.xscale('log')\n",
    "plt.plot(alphas, train_errors)\n",
    "plt.show()"
   ]
  },
  {
   "cell_type": "markdown",
   "metadata": {},
   "source": [
    "## Cross Validation\n",
    "\n",
    "We implement our own cross validation function here."
   ]
  },
  {
   "cell_type": "code",
   "execution_count": 122,
   "metadata": {
    "collapsed": true
   },
   "outputs": [],
   "source": [
    "def random_partition(X, y, k):\n",
    "    '''Helper function that randomly partitions dataset X,y into k parts'''\n",
    "    N = X.shape[0]                  \n",
    "    X_partitions = []\n",
    "    y_partitions = []\n",
    "    \n",
    "    permutation = list(np.random.permutation(N))\n",
    "    shuffled_X = X[permutation, :]\n",
    "    shuffled_y = y[permutation, :]\n",
    "    \n",
    "    len_complete_part = N//k \n",
    "    for i in range(k-1):\n",
    "\n",
    "        X_partitions.append(shuffled_X[i*len_complete_part:(i+1)*len_complete_part, :]) \n",
    "        y_partitions.append(shuffled_y[i*len_complete_part:(i+1)*len_complete_part, :])\n",
    "    \n",
    "    # Handling the end case \n",
    "    X_partitions.append(shuffled_X[len_complete_part*(k-1):, :])\n",
    "    y_partitions.append(shuffled_y[len_complete_part*(k-1):, :])\n",
    "    \n",
    "    return X_partitions, y_partitions"
   ]
  },
  {
   "cell_type": "code",
   "execution_count": 123,
   "metadata": {},
   "outputs": [],
   "source": [
    "def kfoldCV(classifier, X, y, k, alpha):\n",
    "    '''\n",
    "    Perform k-fold cross validation on dataset (X,y).\n",
    "    Return MOOSE\n",
    "    '''\n",
    "    X_partitions, y_partitions = random_partition(X, y, k)\n",
    "    errors = []\n",
    "        \n",
    "    # Run the algorithm k times\n",
    "    for i in range(k):\n",
    "        train_X = np.concatenate(X_partitions[:i] + X_partitions[i+1:], axis = 0)\n",
    "        train_y = np.concatenate(y_partitions[:i] + y_partitions[i+1:], axis = 0)\n",
    "        test_X = X_partitions[i]\n",
    "        test_y = y_partitions[i]     \n",
    "        \n",
    "        # Train and classify model\n",
    "        classifier.set_params(alpha=alpha, max_iter=10000)\n",
    "        classifier.fit(train_X, train_y)\n",
    "        y_pred = classifier.predict(test_X)\n",
    "        errors.append(sk.metrics.mean_squared_error(y_pred, test_y))\n",
    "        \n",
    "\n",
    "    MOOSE = sum(errors)/k\n",
    "    \n",
    "    return MOOSE"
   ]
  },
  {
   "cell_type": "code",
   "execution_count": 126,
   "metadata": {},
   "outputs": [
    {
     "data": {
      "image/png": "[encoded data removed]",
      "text/plain": [
       "<matplotlib.figure.Figure at 0x113e8ebe0>"
      ]
     },
     "metadata": {},
     "output_type": "display_data"
    }
   ],
   "source": [
    "MOOSEs = []\n",
    "for alpha in alphas:\n",
    "    MOOSEs.append(kfoldCV(las, X, y, 5, alpha))\n",
    "\n",
    "plt.xlabel(r'$\\lambda$')\n",
    "plt.ylabel('Test MSE')\n",
    "plt.xscale('log')\n",
    "plt.plot(alphas, MOOSEs)\n",
    "plt.show()\n"
   ]
  },
  {
   "cell_type": "markdown",
   "metadata": {},
   "source": [
    "## Mallows' $C_p$, in-sample MSE, MOOSE\n",
    "\n",
    "We have already calculated MOOSE and in-sample MSE, now we calculate Mallows' $C_p$ statistic."
   ]
  },
  {
   "cell_type": "code",
   "execution_count": 131,
   "metadata": {},
   "outputs": [
    {
     "name": "stdout",
     "output_type": "stream",
     "text": [
      "2833.47475347\n"
     ]
    }
   ],
   "source": [
    "cp = train_errors.copy()\n",
    "N = X.shape[0]\n",
    "P = X.shape[1]\n",
    "\n",
    "\n",
    "# Calculate variance\n",
    "ols = sk.linear_model.LinearRegression()\n",
    "ols.fit(X,y)\n",
    "ols_pred = ols.predict(X)\n",
    "sigma_square = 1 / ( N - P - 1 ) * np.sum((y - ols_pred)**2)\n",
    "print(sigma_square)"
   ]
  },
  {
   "cell_type": "code",
   "execution_count": 134,
   "metadata": {},
   "outputs": [],
   "source": [
    "for i in range(len(cp)):\n",
    "    cp[i] += 2 * np.count_nonzero(coeffs[:,i]) / N * sigma_square"
   ]
  },
  {
   "cell_type": "code",
   "execution_count": 135,
   "metadata": {},
   "outputs": [
    {
     "data": {
      "image/png": "[encoded data removed]",
      "text/plain": [
       "<matplotlib.figure.Figure at 0x113e212e8>"
      ]
     },
     "metadata": {},
     "output_type": "display_data"
    }
   ],
   "source": [
    "plt.xlabel(r'$\\lambda$')\n",
    "plt.xscale('log')\n",
    "plt.plot(alphas, MOOSEs, label = 'MOOSE')\n",
    "plt.plot(alphas, cp, label = 'Marrows Cp')\n",
    "plt.plot(alphas, train_errors, label = 'In-sample MSE')\n",
    "plt.legend()\n",
    "plt.show()"
   ]
  },
  {
   "cell_type": "markdown",
   "metadata": {},
   "source": [
    "For this dataset, Marrows' $C_p$ statistic is pretty close to the MOOSE obtained by CV!"
   ]
  },
  {
   "cell_type": "code",
   "execution_count": null,
   "metadata": {
    "collapsed": true
   },
   "outputs": [],
   "source": []
  }
 ],
 "metadata": {
  "kernelspec": {
   "display_name": "Python 3",
   "language": "python",
   "name": "python3"
  },
  "language_info": {
   "codemirror_mode": {
    "name": "ipython",
    "version": 3
   },
   "file_extension": ".py",
   "mimetype": "text/x-python",
   "name": "python",
   "nbconvert_exporter": "python",
   "pygments_lexer": "ipython3",
   "version": "3.6.2"
  }
 },
 "nbformat": 4,
 "nbformat_minor": 2
}
