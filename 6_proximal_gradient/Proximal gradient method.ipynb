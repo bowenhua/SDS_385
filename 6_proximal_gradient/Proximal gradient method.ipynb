{
 "cells": [
  {
   "cell_type": "markdown",
   "metadata": {},
   "source": [
    "# The proximal gradient method"
   ]
  },
  {
   "cell_type": "code",
   "execution_count": 1,
   "metadata": {
    "collapsed": true
   },
   "outputs": [],
   "source": [
    "import numpy as np\n",
    "import matplotlib.pyplot as plt\n",
    "import pandas as pd"
   ]
  },
  {
   "cell_type": "markdown",
   "metadata": {},
   "source": [
    "## Some utility functions"
   ]
  },
  {
   "cell_type": "code",
   "execution_count": 2,
   "metadata": {
    "collapsed": true
   },
   "outputs": [],
   "source": [
    "def soft_thresh(x, threshold):\n",
    "    \"\"\"Soft threshold function\n",
    "\n",
    "    Inputs:\n",
    "    x : variable\n",
    "    threshold: scalar\n",
    "    \"\"\"\n",
    "\n",
    "    return np.sign(x) * np.maximum(np.absolute(x) - threshold, np.zeros(np.shape(x)))\n",
    "\n",
    "def calc_obj(X,y,beta,lam):\n",
    "    \"\"\"Objective function normalized\"\"\" \n",
    "\n",
    "    return (1 / np.shape(X)[0]) * (np.linalg.norm(y - np.dot(X, beta)))**2 + lam * np.sum(np.abs(beta))\n",
    "\n",
    "def calc_grad(X,y,beta):\n",
    "\n",
    "    grad = np.dot(np.dot(X.T, X), beta) - np.dot(X.T, y)\n",
    "\n",
    "    return (2 / np.shape(X)[0]) * grad\n",
    "\n",
    "def proximal_gradient(X,y,beta, gamma, lam, tol):\n",
    "    \"\"\"\n",
    "    Solve lasso using proximal gradient.\n",
    "\n",
    "    gamma: Parameter for proximal operator\n",
    "    lam: Parameter for lasso\n",
    "    tol  : Convergence tolerance\n",
    "    \"\"\"\n",
    "    \n",
    "    last_obj = float('inf')\n",
    "    obj_change = float('inf')\n",
    "    costs = []\n",
    "    while obj_change > tol:\n",
    "        grad = calc_grad(X,y,beta)\n",
    "        \n",
    "        u = beta - gamma * grad\n",
    "        beta = soft_thresh(u,gamma * lam)\n",
    "        \n",
    "        current_obj = calc_obj(X,y,beta,lam)\n",
    "        obj_change = abs(current_obj - last_obj)\n",
    "        last_obj = current_obj\n",
    "        costs.append(current_obj)\n",
    "\n",
    "    return beta, costs"
   ]
  },
  {
   "cell_type": "markdown",
   "metadata": {},
   "source": [
    "## Read data and perform optimization"
   ]
  },
  {
   "cell_type": "code",
   "execution_count": 3,
   "metadata": {},
   "outputs": [
    {
     "data": {
      "text/html": [
       "<div>\n",
       "<style>\n",
       "    .dataframe thead tr:only-child th {\n",
       "        text-align: right;\n",
       "    }\n",
       "\n",
       "    .dataframe thead th {\n",
       "        text-align: left;\n",
       "    }\n",
       "\n",
       "    .dataframe tbody tr th {\n",
       "        vertical-align: top;\n",
       "    }\n",
       "</style>\n",
       "<table border=\"1\" class=\"dataframe\">\n",
       "  <thead>\n",
       "    <tr style=\"text-align: right;\">\n",
       "      <th></th>\n",
       "      <th>0</th>\n",
       "    </tr>\n",
       "  </thead>\n",
       "  <tbody>\n",
       "    <tr>\n",
       "      <th>count</th>\n",
       "      <td>442.000000</td>\n",
       "    </tr>\n",
       "    <tr>\n",
       "      <th>mean</th>\n",
       "      <td>152.133484</td>\n",
       "    </tr>\n",
       "    <tr>\n",
       "      <th>std</th>\n",
       "      <td>77.093005</td>\n",
       "    </tr>\n",
       "    <tr>\n",
       "      <th>min</th>\n",
       "      <td>25.000000</td>\n",
       "    </tr>\n",
       "    <tr>\n",
       "      <th>25%</th>\n",
       "      <td>87.000000</td>\n",
       "    </tr>\n",
       "    <tr>\n",
       "      <th>50%</th>\n",
       "      <td>140.500000</td>\n",
       "    </tr>\n",
       "    <tr>\n",
       "      <th>75%</th>\n",
       "      <td>211.500000</td>\n",
       "    </tr>\n",
       "    <tr>\n",
       "      <th>max</th>\n",
       "      <td>346.000000</td>\n",
       "    </tr>\n",
       "  </tbody>\n",
       "</table>\n",
       "</div>"
      ],
      "text/plain": [
       "                0\n",
       "count  442.000000\n",
       "mean   152.133484\n",
       "std     77.093005\n",
       "min     25.000000\n",
       "25%     87.000000\n",
       "50%    140.500000\n",
       "75%    211.500000\n",
       "max    346.000000"
      ]
     },
     "execution_count": 3,
     "metadata": {},
     "output_type": "execute_result"
    }
   ],
   "source": [
    "X = pd.read_csv('diabetesX.csv')\n",
    "y = pd.read_csv('diabetesY.csv',header=None)\n",
    "\n",
    "# Add a column of 0.01's for the intercept. Chose 0.01 to be in a similar scale with other features\n",
    "X['ones'] = 0.01* np.ones((X.shape[0],1))\n",
    "y.describe()\n"
   ]
  },
  {
   "cell_type": "code",
   "execution_count": 4,
   "metadata": {
    "collapsed": true
   },
   "outputs": [],
   "source": [
    "X = X.values\n",
    "y = y.values\n",
    "\n",
    "beta = np.random.rand(X.shape[1],1) \n",
    "lam = 0.000001\n",
    "gamma = 10\n",
    "tol = 0.001\n",
    "\n",
    "\n",
    "beta, costs = proximal_gradient(X,y,beta, gamma, lam, tol)"
   ]
  },
  {
   "cell_type": "code",
   "execution_count": 10,
   "metadata": {},
   "outputs": [
    {
     "data": {
      "image/png": "[encoded data removed]",
      "text/plain": [
       "<matplotlib.figure.Figure at 0x1103bb6a0>"
      ]
     },
     "metadata": {},
     "output_type": "display_data"
    },
    {
     "name": "stdout",
     "output_type": "stream",
     "text": [
      "2435.57923977\n"
     ]
    }
   ],
   "source": [
    "\n",
    "plt.plot(costs, label = 'Proximal Gradient')\n",
    "plt.ylabel('Loss (MSE)')\n",
    "plt.xlabel('Iteration Count')\n",
    "plt.show()\n",
    "\n",
    "print(costs[-1])\n"
   ]
  },
  {
   "cell_type": "markdown",
   "metadata": {},
   "source": [
    "## Results\n",
    "\n",
    "The above figure shows how the loss function decreases as we perform more iterations. The minimum in-sample MSE we get from proximal gradient descent is 2435. This is very close to the optimal MSE obtained by the scikit-learn package (described in detail in [this notebook](https://github.com/bowenhua/SDS_385/blob/master/5_sparsity/lasso_CV.ipynb))."
   ]
  },
  {
   "cell_type": "code",
   "execution_count": null,
   "metadata": {
    "collapsed": true
   },
   "outputs": [],
   "source": []
  }
 ],
 "metadata": {
  "kernelspec": {
   "display_name": "Python 3",
   "language": "python",
   "name": "python3"
  },
  "language_info": {
   "codemirror_mode": {
    "name": "ipython",
    "version": 3
   },
   "file_extension": ".py",
   "mimetype": "text/x-python",
   "name": "python",
   "nbconvert_exporter": "python",
   "pygments_lexer": "ipython3",
   "version": "3.6.3"
  }
 },
 "nbformat": 4,
 "nbformat_minor": 2
}
